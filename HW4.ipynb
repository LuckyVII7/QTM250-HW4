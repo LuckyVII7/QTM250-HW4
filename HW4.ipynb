{
  "nbformat": 4,
  "nbformat_minor": 0,
  "metadata": {
    "colab": {
      "name": "HW4",
      "provenance": []
    },
    "kernelspec": {
      "name": "python3",
      "display_name": "Python 3"
    },
    "language_info": {
      "name": "python"
    }
  },
  "cells": [
    {
      "cell_type": "code",
      "metadata": {
        "colab": {
          "base_uri": "https://localhost:8080/"
        },
        "id": "O19AlhAAbwXz",
        "outputId": "e765c4f5-9309-42cf-dc65-4c69b53c12e5"
      },
      "source": [
        "# Import necessary packages\n",
        "import getpass\n",
        "import requests\n",
        "from googleapiclient.discovery import build\n",
        "# Extract APIKey and save it\n",
        "APIKEY = getpass.getpass()"
      ],
      "execution_count": 25,
      "outputs": [
        {
          "output_type": "stream",
          "text": [
            "··········\n"
          ],
          "name": "stdout"
        }
      ]
    },
    {
      "cell_type": "code",
      "metadata": {
        "colab": {
          "base_uri": "https://localhost:8080/"
        },
        "id": "ABq9TsBGbozU",
        "outputId": "cc42bd32-7967-4b99-cfe6-4ea893351af9"
      },
      "source": [
        "# Import image url contain only number with a 0 degree shooting angle \n",
        "IMAGE=\"gs://web-page-edward/Num0.jpg\"\n",
        "\n",
        "# Get cloud machine learning API service\n",
        "vservice = build('vision', 'v1', developerKey=APIKEY)\n",
        "\n",
        "# Detect the text with the google vision API\n",
        "request = vservice.images().annotate(body={\n",
        "        'requests': [{\n",
        "                'image': {\n",
        "                    'source': {\n",
        "                        'gcs_image_uri': IMAGE\n",
        "                    }\n",
        "                },\n",
        "                'features': [{\n",
        "                    'type': 'TEXT_DETECTION',\n",
        "                    'maxResults': 3,\n",
        "                }]\n",
        "            }],\n",
        "        })\n",
        "responses = request.execute(num_retries=3)\n",
        "print(responses['responses'][0]['textAnnotations'][0]['description'])"
      ],
      "execution_count": 26,
      "outputs": [
        {
          "output_type": "stream",
          "text": [
            "5746120857\n",
            "\n"
          ],
          "name": "stdout"
        }
      ]
    },
    {
      "cell_type": "code",
      "metadata": {
        "colab": {
          "base_uri": "https://localhost:8080/"
        },
        "id": "X70H973Rf2un",
        "outputId": "75b1a715-8040-440e-b193-1c0bd67abf68"
      },
      "source": [
        "# Import image contain only number with a 15 degree shooting angle \n",
        "IMAGE=\"gs://web-page-edward/Num15.jpg\"\n",
        "\n",
        "# Get cloud machine learning API service\n",
        "vservice = build('vision', 'v1', developerKey=APIKEY)\n",
        "\n",
        "# Detect the text with the google vision API\n",
        "request = vservice.images().annotate(body={\n",
        "        'requests': [{\n",
        "                'image': {\n",
        "                    'source': {\n",
        "                        'gcs_image_uri': IMAGE\n",
        "                    }\n",
        "                },\n",
        "                'features': [{\n",
        "                    'type': 'TEXT_DETECTION',\n",
        "                    'maxResults': 3,\n",
        "                }]\n",
        "            }],\n",
        "        })\n",
        "responses = request.execute(num_retries=3)\n",
        "print(responses['responses'][0]['textAnnotations'][0]['description'])"
      ],
      "execution_count": 27,
      "outputs": [
        {
          "output_type": "stream",
          "text": [
            "5746120857\n",
            "\n"
          ],
          "name": "stdout"
        }
      ]
    },
    {
      "cell_type": "code",
      "metadata": {
        "colab": {
          "base_uri": "https://localhost:8080/"
        },
        "id": "s--Ox-O-f23l",
        "outputId": "1f9700b8-8f9e-48aa-e355-4b899ddd455e"
      },
      "source": [
        "# Import image contain only number with a 30 degree shooting angle \n",
        "IMAGE=\"gs://web-page-edward/Num30.jpg\"\n",
        "\n",
        "# Get cloud machine learning API service\n",
        "vservice = build('vision', 'v1', developerKey=APIKEY)\n",
        "\n",
        "# Detect the text with the google vision API\n",
        "request = vservice.images().annotate(body={\n",
        "        'requests': [{\n",
        "                'image': {\n",
        "                    'source': {\n",
        "                        'gcs_image_uri': IMAGE\n",
        "                    }\n",
        "                },\n",
        "                'features': [{\n",
        "                    'type': 'TEXT_DETECTION',\n",
        "                    'maxResults': 3,\n",
        "                }]\n",
        "            }],\n",
        "        })\n",
        "responses = request.execute(num_retries=3)\n",
        "print(responses['responses'][0]['textAnnotations'][0]['description'])"
      ],
      "execution_count": 28,
      "outputs": [
        {
          "output_type": "stream",
          "text": [
            "5746120857\n",
            "\n"
          ],
          "name": "stdout"
        }
      ]
    },
    {
      "cell_type": "code",
      "metadata": {
        "colab": {
          "base_uri": "https://localhost:8080/"
        },
        "id": "qNKeR9JRf26t",
        "outputId": "b4e4a0d0-ad50-421a-cdc5-5a89907f3149"
      },
      "source": [
        "# Import image contain only number with a 45 degree shooting angle \n",
        "IMAGE=\"gs://web-page-edward/Num45.jpg\"\n",
        "\n",
        "# Get cloud machine learning API service\n",
        "vservice = build('vision', 'v1', developerKey=APIKEY)\n",
        "\n",
        "# Detect the text with the google vision API\n",
        "request = vservice.images().annotate(body={\n",
        "        'requests': [{\n",
        "                'image': {\n",
        "                    'source': {\n",
        "                        'gcs_image_uri': IMAGE\n",
        "                    }\n",
        "                },\n",
        "                'features': [{\n",
        "                    'type': 'TEXT_DETECTION',\n",
        "                    'maxResults': 3,\n",
        "                }]\n",
        "            }],\n",
        "        })\n",
        "responses = request.execute(num_retries=3)\n",
        "print(responses['responses'][0]['textAnnotations'][0]['description'])"
      ],
      "execution_count": 29,
      "outputs": [
        {
          "output_type": "stream",
          "text": [
            "5746120857\n",
            "\n"
          ],
          "name": "stdout"
        }
      ]
    },
    {
      "cell_type": "code",
      "metadata": {
        "colab": {
          "base_uri": "https://localhost:8080/"
        },
        "id": "CZXYoA-if294",
        "outputId": "29d31142-2396-4ac2-a09d-0fa92df76d4a"
      },
      "source": [
        "# Import image contain only number with a 60 degree shooting angle \n",
        "IMAGE=\"gs://web-page-edward/Num60.jpg\"\n",
        "\n",
        "# Get cloud machine learning API service\n",
        "vservice = build('vision', 'v1', developerKey=APIKEY)\n",
        "\n",
        "# Detect the text with the google vision API\n",
        "request = vservice.images().annotate(body={\n",
        "        'requests': [{\n",
        "                'image': {\n",
        "                    'source': {\n",
        "                        'gcs_image_uri': IMAGE\n",
        "                    }\n",
        "                },\n",
        "                'features': [{\n",
        "                    'type': 'TEXT_DETECTION',\n",
        "                    'maxResults': 3,\n",
        "                }]\n",
        "            }],\n",
        "        })\n",
        "responses = request.execute(num_retries=3)\n",
        "print(responses['responses'][0]['textAnnotations'][0]['description'])"
      ],
      "execution_count": 30,
      "outputs": [
        {
          "output_type": "stream",
          "text": [
            "S4520857\n",
            "\n"
          ],
          "name": "stdout"
        }
      ]
    },
    {
      "cell_type": "code",
      "metadata": {
        "colab": {
          "base_uri": "https://localhost:8080/",
          "height": 202
        },
        "id": "eFaOa5xtf3A6",
        "outputId": "61910a3c-b08b-4d2e-b68a-695c0a64efd9"
      },
      "source": [
        "# Import image contain only number with a 75 degree shooting angle \n",
        "IMAGE=\"gs://web-page-edward/Num75.jpg\"\n",
        "\n",
        "# Get cloud machine learning API service\n",
        "vservice = build('vision', 'v1', developerKey=APIKEY)\n",
        "\n",
        "# Detect the text with the google vision API\n",
        "request = vservice.images().annotate(body={\n",
        "        'requests': [{\n",
        "                'image': {\n",
        "                    'source': {\n",
        "                        'gcs_image_uri': IMAGE\n",
        "                    }\n",
        "                },\n",
        "                'features': [{\n",
        "                    'type': 'TEXT_DETECTION',\n",
        "                    'maxResults': 3,\n",
        "                }]\n",
        "            }],\n",
        "        })\n",
        "responses = request.execute(num_retries=3)\n",
        "print(responses['responses'][0]['textAnnotations'][0]['description'])"
      ],
      "execution_count": 31,
      "outputs": [
        {
          "output_type": "error",
          "ename": "KeyError",
          "evalue": "ignored",
          "traceback": [
            "\u001b[0;31m---------------------------------------------------------------------------\u001b[0m",
            "\u001b[0;31mKeyError\u001b[0m                                  Traceback (most recent call last)",
            "\u001b[0;32m<ipython-input-31-20bc0f3bac9e>\u001b[0m in \u001b[0;36m<module>\u001b[0;34m()\u001b[0m\n\u001b[1;32m     20\u001b[0m         })\n\u001b[1;32m     21\u001b[0m \u001b[0mresponses\u001b[0m \u001b[0;34m=\u001b[0m \u001b[0mrequest\u001b[0m\u001b[0;34m.\u001b[0m\u001b[0mexecute\u001b[0m\u001b[0;34m(\u001b[0m\u001b[0mnum_retries\u001b[0m\u001b[0;34m=\u001b[0m\u001b[0;36m3\u001b[0m\u001b[0;34m)\u001b[0m\u001b[0;34m\u001b[0m\u001b[0;34m\u001b[0m\u001b[0m\n\u001b[0;32m---> 22\u001b[0;31m \u001b[0mprint\u001b[0m\u001b[0;34m(\u001b[0m\u001b[0mresponses\u001b[0m\u001b[0;34m[\u001b[0m\u001b[0;34m'responses'\u001b[0m\u001b[0;34m]\u001b[0m\u001b[0;34m[\u001b[0m\u001b[0;36m0\u001b[0m\u001b[0;34m]\u001b[0m\u001b[0;34m[\u001b[0m\u001b[0;34m'textAnnotations'\u001b[0m\u001b[0;34m]\u001b[0m\u001b[0;34m[\u001b[0m\u001b[0;36m0\u001b[0m\u001b[0;34m]\u001b[0m\u001b[0;34m[\u001b[0m\u001b[0;34m'description'\u001b[0m\u001b[0;34m]\u001b[0m\u001b[0;34m)\u001b[0m\u001b[0;34m\u001b[0m\u001b[0;34m\u001b[0m\u001b[0m\n\u001b[0m",
            "\u001b[0;31mKeyError\u001b[0m: 'textAnnotations'"
          ]
        }
      ]
    },
    {
      "cell_type": "code",
      "metadata": {
        "colab": {
          "base_uri": "https://localhost:8080/"
        },
        "id": "KfrpOO6tf3Dx",
        "outputId": "409186d9-0a7e-455d-d19b-71caf315cf5c"
      },
      "source": [
        "# Import image contain only uppercase letters with a 0 degree shooting angle \n",
        "IMAGE=\"gs://web-page-edward/Let0.jpg\"\n",
        "\n",
        "# Get cloud machine learning API service\n",
        "vservice = build('vision', 'v1', developerKey=APIKEY)\n",
        "\n",
        "# Detect the text with the google vision API\n",
        "request = vservice.images().annotate(body={\n",
        "        'requests': [{\n",
        "                'image': {\n",
        "                    'source': {\n",
        "                        'gcs_image_uri': IMAGE\n",
        "                    }\n",
        "                },\n",
        "                'features': [{\n",
        "                    'type': 'TEXT_DETECTION',\n",
        "                    'maxResults': 3,\n",
        "                }]\n",
        "            }],\n",
        "        })\n",
        "responses = request.execute(num_retries=3)\n",
        "print(responses['responses'][0]['textAnnotations'][0]['description'])"
      ],
      "execution_count": 32,
      "outputs": [
        {
          "output_type": "stream",
          "text": [
            "NCIEWPBNVN\n",
            "\n"
          ],
          "name": "stdout"
        }
      ]
    },
    {
      "cell_type": "code",
      "metadata": {
        "colab": {
          "base_uri": "https://localhost:8080/"
        },
        "id": "NF4hvNmXf3Gy",
        "outputId": "58259272-974b-4323-e023-4743a3b03d2d"
      },
      "source": [
        "# Import image contain only uppercase letters with a 15 degree shooting angle \n",
        "IMAGE=\"gs://web-page-edward/Let15.jpg\"\n",
        "\n",
        "# Get cloud machine learning API service\n",
        "vservice = build('vision', 'v1', developerKey=APIKEY)\n",
        "\n",
        "# Detect the text with the google vision API\n",
        "request = vservice.images().annotate(body={\n",
        "        'requests': [{\n",
        "                'image': {\n",
        "                    'source': {\n",
        "                        'gcs_image_uri': IMAGE\n",
        "                    }\n",
        "                },\n",
        "                'features': [{\n",
        "                    'type': 'TEXT_DETECTION',\n",
        "                    'maxResults': 3,\n",
        "                }]\n",
        "            }],\n",
        "        })\n",
        "responses = request.execute(num_retries=3)\n",
        "print(responses['responses'][0]['textAnnotations'][0]['description'])"
      ],
      "execution_count": 33,
      "outputs": [
        {
          "output_type": "stream",
          "text": [
            "NCIEWPBNVN\n",
            "\n"
          ],
          "name": "stdout"
        }
      ]
    },
    {
      "cell_type": "code",
      "metadata": {
        "colab": {
          "base_uri": "https://localhost:8080/"
        },
        "id": "MpisqKJMf3J5",
        "outputId": "d59ec101-f961-499c-cc98-1a7e1c48ddab"
      },
      "source": [
        "# Import image contain only uppercase letters with a 30 degree shooting angle \n",
        "IMAGE=\"gs://web-page-edward/Let30.jpg\"\n",
        "\n",
        "# Get cloud machine learning API service\n",
        "vservice = build('vision', 'v1', developerKey=APIKEY)\n",
        "\n",
        "# Detect the text with the google vision API\n",
        "request = vservice.images().annotate(body={\n",
        "        'requests': [{\n",
        "                'image': {\n",
        "                    'source': {\n",
        "                        'gcs_image_uri': IMAGE\n",
        "                    }\n",
        "                },\n",
        "                'features': [{\n",
        "                    'type': 'TEXT_DETECTION',\n",
        "                    'maxResults': 3,\n",
        "                }]\n",
        "            }],\n",
        "        })\n",
        "responses = request.execute(num_retries=3)\n",
        "print(responses['responses'][0]['textAnnotations'][0]['description'])"
      ],
      "execution_count": 34,
      "outputs": [
        {
          "output_type": "stream",
          "text": [
            "NCIEWPBNVN\n",
            "\n"
          ],
          "name": "stdout"
        }
      ]
    },
    {
      "cell_type": "code",
      "metadata": {
        "colab": {
          "base_uri": "https://localhost:8080/"
        },
        "id": "6_ptSSyef3Mm",
        "outputId": "20fda29c-39cc-4eb6-a1a2-053312e69000"
      },
      "source": [
        "# Import image contain only uppercase letters with a 45 degree shooting angle \n",
        "IMAGE=\"gs://web-page-edward/Let45.jpg\"\n",
        "\n",
        "# Get cloud machine learning API service\n",
        "vservice = build('vision', 'v1', developerKey=APIKEY)\n",
        "\n",
        "# Detect the text with the google vision API\n",
        "request = vservice.images().annotate(body={\n",
        "        'requests': [{\n",
        "                'image': {\n",
        "                    'source': {\n",
        "                        'gcs_image_uri': IMAGE\n",
        "                    }\n",
        "                },\n",
        "                'features': [{\n",
        "                    'type': 'TEXT_DETECTION',\n",
        "                    'maxResults': 3,\n",
        "                }]\n",
        "            }],\n",
        "        })\n",
        "responses = request.execute(num_retries=3)\n",
        "print(responses['responses'][0]['textAnnotations'][0]['description'])"
      ],
      "execution_count": 35,
      "outputs": [
        {
          "output_type": "stream",
          "text": [
            "NCIEWPBNVN\n",
            "\n"
          ],
          "name": "stdout"
        }
      ]
    },
    {
      "cell_type": "code",
      "metadata": {
        "colab": {
          "base_uri": "https://localhost:8080/"
        },
        "id": "8eFazxjYf3Pz",
        "outputId": "7fe45e96-81f6-4458-c84c-e791f2a3b248"
      },
      "source": [
        "# Import image contain only uppercase letters with a 60 degree shooting angle \n",
        "IMAGE=\"gs://web-page-edward/Let60.jpg\"\n",
        "\n",
        "# Get cloud machine learning API service\n",
        "vservice = build('vision', 'v1', developerKey=APIKEY)\n",
        "\n",
        "# Detect the text with the google vision API\n",
        "request = vservice.images().annotate(body={\n",
        "        'requests': [{\n",
        "                'image': {\n",
        "                    'source': {\n",
        "                        'gcs_image_uri': IMAGE\n",
        "                    }\n",
        "                },\n",
        "                'features': [{\n",
        "                    'type': 'TEXT_DETECTION',\n",
        "                    'maxResults': 3,\n",
        "                }]\n",
        "            }],\n",
        "        })\n",
        "responses = request.execute(num_retries=3)\n",
        "print(responses['responses'][0]['textAnnotations'][0]['description'])"
      ],
      "execution_count": 36,
      "outputs": [
        {
          "output_type": "stream",
          "text": [
            "NCIEWPBNVN\n",
            "\n"
          ],
          "name": "stdout"
        }
      ]
    },
    {
      "cell_type": "code",
      "metadata": {
        "colab": {
          "base_uri": "https://localhost:8080/",
          "height": 206
        },
        "id": "MJPel11Gf3S7",
        "outputId": "af077b7c-cca5-4f58-9971-54e09c7c699f"
      },
      "source": [
        "# Import image contain only uppercase letters with a 75 degree shooting angle \n",
        "IMAGE=\"gs://web-page-edward/Let75.jpg\"\n",
        "\n",
        "# Get cloud machine learning API service\n",
        "vservice = build('vision', 'v1', developerKey=APIKEY)\n",
        "\n",
        "# Detect the text with the google vision API\n",
        "request = vservice.images().annotate(body={\n",
        "        'requests': [{\n",
        "                'image': {\n",
        "                    'source': {\n",
        "                        'gcs_image_uri': IMAGE\n",
        "                    }\n",
        "                },\n",
        "                'features': [{\n",
        "                    'type': 'TEXT_DETECTION',\n",
        "                    'maxResults': 3,\n",
        "                }]\n",
        "            }],\n",
        "        })\n",
        "responses = request.execute(num_retries=3)\n",
        "print(responses['responses'][0]['textAnnotations'][0]['description'])"
      ],
      "execution_count": 37,
      "outputs": [
        {
          "output_type": "error",
          "ename": "KeyError",
          "evalue": "ignored",
          "traceback": [
            "\u001b[0;31m---------------------------------------------------------------------------\u001b[0m",
            "\u001b[0;31mKeyError\u001b[0m                                  Traceback (most recent call last)",
            "\u001b[0;32m<ipython-input-37-81450f3b4c68>\u001b[0m in \u001b[0;36m<module>\u001b[0;34m()\u001b[0m\n\u001b[1;32m     20\u001b[0m         })\n\u001b[1;32m     21\u001b[0m \u001b[0mresponses\u001b[0m \u001b[0;34m=\u001b[0m \u001b[0mrequest\u001b[0m\u001b[0;34m.\u001b[0m\u001b[0mexecute\u001b[0m\u001b[0;34m(\u001b[0m\u001b[0mnum_retries\u001b[0m\u001b[0;34m=\u001b[0m\u001b[0;36m3\u001b[0m\u001b[0;34m)\u001b[0m\u001b[0;34m\u001b[0m\u001b[0;34m\u001b[0m\u001b[0m\n\u001b[0;32m---> 22\u001b[0;31m \u001b[0mprint\u001b[0m\u001b[0;34m(\u001b[0m\u001b[0mresponses\u001b[0m\u001b[0;34m[\u001b[0m\u001b[0;34m'responses'\u001b[0m\u001b[0;34m]\u001b[0m\u001b[0;34m[\u001b[0m\u001b[0;36m0\u001b[0m\u001b[0;34m]\u001b[0m\u001b[0;34m[\u001b[0m\u001b[0;34m'textAnnotations'\u001b[0m\u001b[0;34m]\u001b[0m\u001b[0;34m[\u001b[0m\u001b[0;36m0\u001b[0m\u001b[0;34m]\u001b[0m\u001b[0;34m[\u001b[0m\u001b[0;34m'description'\u001b[0m\u001b[0;34m]\u001b[0m\u001b[0;34m)\u001b[0m\u001b[0;34m\u001b[0m\u001b[0;34m\u001b[0m\u001b[0m\n\u001b[0m",
            "\u001b[0;31mKeyError\u001b[0m: 'textAnnotations'"
          ]
        }
      ]
    },
    {
      "cell_type": "code",
      "metadata": {
        "colab": {
          "base_uri": "https://localhost:8080/"
        },
        "id": "h261mAj6ggeb",
        "outputId": "c49d85a8-b003-4952-c7e7-c4b897becbdf"
      },
      "source": [
        "# Import image contain combination of uppercase letters and numbers with a 0 degree shooting angle \n",
        "IMAGE=\"gs://web-page-edward/Cob0.jpg\"\n",
        "\n",
        "# Get cloud machine learning API service\n",
        "vservice = build('vision', 'v1', developerKey=APIKEY)\n",
        "\n",
        "# Detect the text with the google vision API\n",
        "request = vservice.images().annotate(body={\n",
        "        'requests': [{\n",
        "                'image': {\n",
        "                    'source': {\n",
        "                        'gcs_image_uri': IMAGE\n",
        "                    }\n",
        "                },\n",
        "                'features': [{\n",
        "                    'type': 'TEXT_DETECTION',\n",
        "                    'maxResults': 3,\n",
        "                }]\n",
        "            }],\n",
        "        })\n",
        "responses = request.execute(num_retries=3)\n",
        "print(responses['responses'][0]['textAnnotations'][0]['description'])"
      ],
      "execution_count": 38,
      "outputs": [
        {
          "output_type": "stream",
          "text": [
            "AHN2879\n",
            "\n"
          ],
          "name": "stdout"
        }
      ]
    },
    {
      "cell_type": "code",
      "metadata": {
        "colab": {
          "base_uri": "https://localhost:8080/"
        },
        "id": "Mt4-Ua0-f3WE",
        "outputId": "035cc0e9-8142-4e9a-f168-64016847239e"
      },
      "source": [
        "# Import image contain combination of uppercase letters and numbers with a 15 degree shooting angle \n",
        "IMAGE=\"gs://web-page-edward/Cob15.jpg\"\n",
        "\n",
        "# Get cloud machine learning API service\n",
        "vservice = build('vision', 'v1', developerKey=APIKEY)\n",
        "\n",
        "# Detect the text with the google vision API\n",
        "request = vservice.images().annotate(body={\n",
        "        'requests': [{\n",
        "                'image': {\n",
        "                    'source': {\n",
        "                        'gcs_image_uri': IMAGE\n",
        "                    }\n",
        "                },\n",
        "                'features': [{\n",
        "                    'type': 'TEXT_DETECTION',\n",
        "                    'maxResults': 3,\n",
        "                }]\n",
        "            }],\n",
        "        })\n",
        "responses = request.execute(num_retries=3)\n",
        "print(responses['responses'][0]['textAnnotations'][0]['description'])"
      ],
      "execution_count": 39,
      "outputs": [
        {
          "output_type": "stream",
          "text": [
            "AHN2879\n",
            "\n"
          ],
          "name": "stdout"
        }
      ]
    },
    {
      "cell_type": "code",
      "metadata": {
        "colab": {
          "base_uri": "https://localhost:8080/"
        },
        "id": "vwoiGAknf3ZK",
        "outputId": "5952dbc0-4d69-4bdf-b32b-40c859b4137c"
      },
      "source": [
        "# Import image contain combination of uppercase letters and numbers with a 30 degree shooting angle \n",
        "IMAGE=\"gs://web-page-edward/Cob30.jpg\"\n",
        "\n",
        "# Get cloud machine learning API service\n",
        "vservice = build('vision', 'v1', developerKey=APIKEY)\n",
        "\n",
        "# Detect the text with the google vision API\n",
        "request = vservice.images().annotate(body={\n",
        "        'requests': [{\n",
        "                'image': {\n",
        "                    'source': {\n",
        "                        'gcs_image_uri': IMAGE\n",
        "                    }\n",
        "                },\n",
        "                'features': [{\n",
        "                    'type': 'TEXT_DETECTION',\n",
        "                    'maxResults': 3,\n",
        "                }]\n",
        "            }],\n",
        "        })\n",
        "responses = request.execute(num_retries=3)\n",
        "print(responses['responses'][0]['textAnnotations'][0]['description'])"
      ],
      "execution_count": 40,
      "outputs": [
        {
          "output_type": "stream",
          "text": [
            "AHN2879\n",
            "\n"
          ],
          "name": "stdout"
        }
      ]
    },
    {
      "cell_type": "code",
      "metadata": {
        "colab": {
          "base_uri": "https://localhost:8080/"
        },
        "id": "6wLRoVjBf3cD",
        "outputId": "7528c43a-36ef-4af1-e41c-aaf8b387fe60"
      },
      "source": [
        "# Import image contain combination of uppercase letters and numbers with a 45 degree shooting angle \n",
        "IMAGE=\"gs://web-page-edward/Cob45.jpg\"\n",
        "\n",
        "# Get cloud machine learning API service\n",
        "vservice = build('vision', 'v1', developerKey=APIKEY)\n",
        "\n",
        "# Detect the text with the google vision API\n",
        "request = vservice.images().annotate(body={\n",
        "        'requests': [{\n",
        "                'image': {\n",
        "                    'source': {\n",
        "                        'gcs_image_uri': IMAGE\n",
        "                    }\n",
        "                },\n",
        "                'features': [{\n",
        "                    'type': 'TEXT_DETECTION',\n",
        "                    'maxResults': 3,\n",
        "                }]\n",
        "            }],\n",
        "        })\n",
        "responses = request.execute(num_retries=3)\n",
        "print(responses['responses'][0]['textAnnotations'][0]['description'])"
      ],
      "execution_count": 41,
      "outputs": [
        {
          "output_type": "stream",
          "text": [
            "AHN2879\n",
            "\n"
          ],
          "name": "stdout"
        }
      ]
    },
    {
      "cell_type": "code",
      "metadata": {
        "colab": {
          "base_uri": "https://localhost:8080/"
        },
        "id": "Mt6QMrR0f3fO",
        "outputId": "8116821c-a958-4dfa-9602-e9f21d290d06"
      },
      "source": [
        "# Import image contain combination of uppercase letters and numbers with a 30 degree shooting angle \n",
        "IMAGE=\"gs://web-page-edward/Cob60.jpg\"\n",
        "\n",
        "# Get cloud machine learning API service\n",
        "vservice = build('vision', 'v1', developerKey=APIKEY)\n",
        "\n",
        "# Detect the text with the google vision API\n",
        "request = vservice.images().annotate(body={\n",
        "        'requests': [{\n",
        "                'image': {\n",
        "                    'source': {\n",
        "                        'gcs_image_uri': IMAGE\n",
        "                    }\n",
        "                },\n",
        "                'features': [{\n",
        "                    'type': 'TEXT_DETECTION',\n",
        "                    'maxResults': 3,\n",
        "                }]\n",
        "            }],\n",
        "        })\n",
        "responses = request.execute(num_retries=3)\n",
        "print(responses['responses'][0]['textAnnotations'][0]['description'])"
      ],
      "execution_count": 42,
      "outputs": [
        {
          "output_type": "stream",
          "text": [
            "A12879\n",
            "\n"
          ],
          "name": "stdout"
        }
      ]
    },
    {
      "cell_type": "code",
      "metadata": {
        "colab": {
          "base_uri": "https://localhost:8080/"
        },
        "id": "pmtbfpref3h7",
        "outputId": "a7579a5b-896d-407e-b9ee-837e719606bf"
      },
      "source": [
        "# Import image contain combination of uppercase letters and numbers with a 30 degree shooting angle \n",
        "IMAGE=\"gs://web-page-edward/Cob75.jpg\"\n",
        "\n",
        "# Get cloud machine learning API service\n",
        "vservice = build('vision', 'v1', developerKey=APIKEY)\n",
        "\n",
        "# Detect the text with the google vision API\n",
        "request = vservice.images().annotate(body={\n",
        "        'requests': [{\n",
        "                'image': {\n",
        "                    'source': {\n",
        "                        'gcs_image_uri': IMAGE\n",
        "                    }\n",
        "                },\n",
        "                'features': [{\n",
        "                    'type': 'TEXT_DETECTION',\n",
        "                    'maxResults': 3,\n",
        "                }]\n",
        "            }],\n",
        "        })\n",
        "responses = request.execute(num_retries=3)\n",
        "print(responses['responses'][0]['textAnnotations'][0]['description'])"
      ],
      "execution_count": 43,
      "outputs": [
        {
          "output_type": "stream",
          "text": [
            "279\n",
            "\n"
          ],
          "name": "stdout"
        }
      ]
    }
  ]
}